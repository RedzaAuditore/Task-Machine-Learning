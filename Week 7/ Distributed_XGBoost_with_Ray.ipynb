{
  "nbformat": 4,
  "nbformat_minor": 0,
  "metadata": {
    "colab": {
      "name": "Week 7 Distributed XGBoost with Ray.ipynb",
      "provenance": [],
      "collapsed_sections": [],
      "authorship_tag": "ABX9TyNOxaFVa2E7fStVd4p8q8Ax",
      "include_colab_link": true
    },
    "kernelspec": {
      "name": "python3",
      "display_name": "Python 3"
    },
    "language_info": {
      "name": "python"
    }
  },
  "cells": [
    {
      "cell_type": "markdown",
      "metadata": {
        "id": "view-in-github",
        "colab_type": "text"
      },
      "source": [
        "<a href=\"https://colab.research.google.com/github/RedzaAuditore/Task-Machine-Learning/blob/main/Week%207/%20Distributed_XGBoost_with_Ray.ipynb\" target=\"_parent\"><img src=\"https://colab.research.google.com/assets/colab-badge.svg\" alt=\"Open In Colab\"/></a>"
      ]
    },
    {
      "cell_type": "code",
      "metadata": {
        "id": "7K00r6cKRGSz",
        "colab": {
          "base_uri": "https://localhost:8080/"
        },
        "outputId": "03938c04-d48c-484f-9190-ea336ba7d088"
      },
      "source": [
        "from google.colab import drive\n",
        "drive.mount('/content/drive')"
      ],
      "execution_count": null,
      "outputs": [
        {
          "output_type": "stream",
          "name": "stdout",
          "text": [
            "Mounted at /content/drive\n"
          ]
        }
      ]
    },
    {
      "cell_type": "code",
      "metadata": {
        "colab": {
          "base_uri": "https://localhost:8080/"
        },
        "id": "Gi1ImyECOnFR",
        "outputId": "9b563197-f3eb-4e8f-fdbf-ba7376a1aff2"
      },
      "source": [
        "pip install ray"
      ],
      "execution_count": null,
      "outputs": [
        {
          "output_type": "stream",
          "name": "stdout",
          "text": [
            "Collecting ray\n",
            "  Downloading ray-1.8.0-cp37-cp37m-manylinux2014_x86_64.whl (54.7 MB)\n",
            "\u001b[K     |████████████████████████████████| 54.7 MB 35 kB/s \n",
            "\u001b[?25hRequirement already satisfied: attrs in /usr/local/lib/python3.7/dist-packages (from ray) (21.2.0)\n",
            "Requirement already satisfied: protobuf>=3.15.3 in /usr/local/lib/python3.7/dist-packages (from ray) (3.17.3)\n",
            "Requirement already satisfied: grpcio>=1.28.1 in /usr/local/lib/python3.7/dist-packages (from ray) (1.41.1)\n",
            "Requirement already satisfied: click>=7.0 in /usr/local/lib/python3.7/dist-packages (from ray) (7.1.2)\n",
            "Collecting redis>=3.5.0\n",
            "  Downloading redis-3.5.3-py2.py3-none-any.whl (72 kB)\n",
            "\u001b[K     |████████████████████████████████| 72 kB 621 kB/s \n",
            "\u001b[?25hRequirement already satisfied: msgpack<2.0.0,>=1.0.0 in /usr/local/lib/python3.7/dist-packages (from ray) (1.0.2)\n",
            "Requirement already satisfied: jsonschema in /usr/local/lib/python3.7/dist-packages (from ray) (2.6.0)\n",
            "Requirement already satisfied: pyyaml in /usr/local/lib/python3.7/dist-packages (from ray) (3.13)\n",
            "Requirement already satisfied: numpy>=1.16 in /usr/local/lib/python3.7/dist-packages (from ray) (1.19.5)\n",
            "Requirement already satisfied: filelock in /usr/local/lib/python3.7/dist-packages (from ray) (3.3.2)\n",
            "Requirement already satisfied: six>=1.5.2 in /usr/local/lib/python3.7/dist-packages (from grpcio>=1.28.1->ray) (1.15.0)\n",
            "Installing collected packages: redis, ray\n",
            "Successfully installed ray-1.8.0 redis-3.5.3\n"
          ]
        }
      ]
    },
    {
      "cell_type": "code",
      "metadata": {
        "colab": {
          "base_uri": "https://localhost:8080/"
        },
        "id": "mfeduQtLPEXS",
        "outputId": "7f853034-8ac0-41f5-8eab-504e904bb00d"
      },
      "source": [
        "pip install xgboost_ray"
      ],
      "execution_count": null,
      "outputs": [
        {
          "output_type": "stream",
          "name": "stdout",
          "text": [
            "Collecting xgboost_ray\n",
            "  Downloading xgboost_ray-0.1.5-py3-none-any.whl (136 kB)\n",
            "\u001b[?25l\r\u001b[K     |██▍                             | 10 kB 16.9 MB/s eta 0:00:01\r\u001b[K     |████▉                           | 20 kB 19.3 MB/s eta 0:00:01\r\u001b[K     |███████▏                        | 30 kB 22.0 MB/s eta 0:00:01\r\u001b[K     |█████████▋                      | 40 kB 22.5 MB/s eta 0:00:01\r\u001b[K     |████████████                    | 51 kB 23.1 MB/s eta 0:00:01\r\u001b[K     |██████████████▍                 | 61 kB 23.4 MB/s eta 0:00:01\r\u001b[K     |████████████████▉               | 71 kB 21.2 MB/s eta 0:00:01\r\u001b[K     |███████████████████▏            | 81 kB 21.8 MB/s eta 0:00:01\r\u001b[K     |█████████████████████▋          | 92 kB 23.5 MB/s eta 0:00:01\r\u001b[K     |████████████████████████        | 102 kB 25.1 MB/s eta 0:00:01\r\u001b[K     |██████████████████████████▍     | 112 kB 25.1 MB/s eta 0:00:01\r\u001b[K     |████████████████████████████▉   | 122 kB 25.1 MB/s eta 0:00:01\r\u001b[K     |███████████████████████████████▏| 133 kB 25.1 MB/s eta 0:00:01\r\u001b[K     |████████████████████████████████| 136 kB 25.1 MB/s \n",
            "\u001b[?25hRequirement already satisfied: xgboost>=0.90 in /usr/local/lib/python3.7/dist-packages (from xgboost_ray) (0.90)\n",
            "Requirement already satisfied: ray>=1.6 in /usr/local/lib/python3.7/dist-packages (from xgboost_ray) (1.8.0)\n",
            "Requirement already satisfied: pyarrow<5.0.0 in /usr/local/lib/python3.7/dist-packages (from xgboost_ray) (3.0.0)\n",
            "Requirement already satisfied: pandas in /usr/local/lib/python3.7/dist-packages (from xgboost_ray) (1.1.5)\n",
            "Requirement already satisfied: wrapt>=1.12.1 in /usr/local/lib/python3.7/dist-packages (from xgboost_ray) (1.13.3)\n",
            "Requirement already satisfied: numpy<1.20,>=1.16 in /usr/local/lib/python3.7/dist-packages (from xgboost_ray) (1.19.5)\n",
            "Requirement already satisfied: attrs in /usr/local/lib/python3.7/dist-packages (from ray>=1.6->xgboost_ray) (21.2.0)\n",
            "Requirement already satisfied: filelock in /usr/local/lib/python3.7/dist-packages (from ray>=1.6->xgboost_ray) (3.3.2)\n",
            "Requirement already satisfied: click>=7.0 in /usr/local/lib/python3.7/dist-packages (from ray>=1.6->xgboost_ray) (7.1.2)\n",
            "Requirement already satisfied: msgpack<2.0.0,>=1.0.0 in /usr/local/lib/python3.7/dist-packages (from ray>=1.6->xgboost_ray) (1.0.2)\n",
            "Requirement already satisfied: redis>=3.5.0 in /usr/local/lib/python3.7/dist-packages (from ray>=1.6->xgboost_ray) (3.5.3)\n",
            "Requirement already satisfied: grpcio>=1.28.1 in /usr/local/lib/python3.7/dist-packages (from ray>=1.6->xgboost_ray) (1.41.1)\n",
            "Requirement already satisfied: jsonschema in /usr/local/lib/python3.7/dist-packages (from ray>=1.6->xgboost_ray) (2.6.0)\n",
            "Requirement already satisfied: pyyaml in /usr/local/lib/python3.7/dist-packages (from ray>=1.6->xgboost_ray) (3.13)\n",
            "Requirement already satisfied: protobuf>=3.15.3 in /usr/local/lib/python3.7/dist-packages (from ray>=1.6->xgboost_ray) (3.17.3)\n",
            "Requirement already satisfied: six>=1.5.2 in /usr/local/lib/python3.7/dist-packages (from grpcio>=1.28.1->ray>=1.6->xgboost_ray) (1.15.0)\n",
            "Requirement already satisfied: scipy in /usr/local/lib/python3.7/dist-packages (from xgboost>=0.90->xgboost_ray) (1.4.1)\n",
            "Requirement already satisfied: python-dateutil>=2.7.3 in /usr/local/lib/python3.7/dist-packages (from pandas->xgboost_ray) (2.8.2)\n",
            "Requirement already satisfied: pytz>=2017.2 in /usr/local/lib/python3.7/dist-packages (from pandas->xgboost_ray) (2018.9)\n",
            "Installing collected packages: xgboost-ray\n",
            "Successfully installed xgboost-ray-0.1.5\n"
          ]
        }
      ]
    },
    {
      "cell_type": "code",
      "metadata": {
        "colab": {
          "base_uri": "https://localhost:8080/"
        },
        "id": "kP_SDR3MPGRN",
        "outputId": "b8556a15-05c6-4afa-bd48-f56d5636a89b"
      },
      "source": [
        "pip install sklearn"
      ],
      "execution_count": null,
      "outputs": [
        {
          "output_type": "stream",
          "name": "stdout",
          "text": [
            "Requirement already satisfied: sklearn in /usr/local/lib/python3.7/dist-packages (0.0)\n",
            "Requirement already satisfied: scikit-learn in /usr/local/lib/python3.7/dist-packages (from sklearn) (0.22.2.post1)\n",
            "Requirement already satisfied: joblib>=0.11 in /usr/local/lib/python3.7/dist-packages (from scikit-learn->sklearn) (1.1.0)\n",
            "Requirement already satisfied: numpy>=1.11.0 in /usr/local/lib/python3.7/dist-packages (from scikit-learn->sklearn) (1.19.5)\n",
            "Requirement already satisfied: scipy>=0.17.0 in /usr/local/lib/python3.7/dist-packages (from scikit-learn->sklearn) (1.4.1)\n"
          ]
        }
      ]
    },
    {
      "cell_type": "code",
      "metadata": {
        "colab": {
          "base_uri": "https://localhost:8080/"
        },
        "id": "N_FivHoVPI99",
        "outputId": "02179015-f7f7-4bd8-b137-f361378e8b80"
      },
      "source": [
        "from xgboost_ray import RayDMatrix, RayParams, train\n",
        "from sklearn.datasets import load_breast_cancer\n",
        "\n",
        "train_x, train_y = load_breast_cancer(return_X_y=True)\n",
        "train_set = RayDMatrix(train_x, train_y)\n",
        "\n",
        "evals_result = {}\n",
        "bst = train(\n",
        "    {\n",
        "        \"objective\": \"binary:logistic\",\n",
        "        \"eval_metric\": [\"logloss\", \"error\"],\n",
        "    },\n",
        "    train_set,\n",
        "    evals_result=evals_result,\n",
        "    evals=[(train_set, \"train\")],\n",
        "    verbose_eval=False,\n",
        "    ray_params=RayParams(num_actors=2, cpus_per_actor=1))\n",
        "\n",
        "bst.save_model(\"model.xgb\")\n",
        "print(\"Final training error: {:.4f}\".format(\n",
        "    evals_result[\"train\"][\"error\"][-1]))"
      ],
      "execution_count": null,
      "outputs": [
        {
          "output_type": "stream",
          "name": "stderr",
          "text": [
            "/usr/local/lib/python3.7/dist-packages/xgboost_ray/main.py:166: UserWarning: You are using `xgboost_ray` with a legacy XGBoost version (version 0.90). While we try to support older XGBoost versions, please note that this library is only fully tested and supported for XGBoost >= 1.4. Please consider upgrading your XGBoost version (`pip install -U xgboost`).\n",
            "  warnings.warn(LEGACY_WARNING)\n",
            "2021-11-10 14:37:29,594\tINFO main.py:971 -- [RayXGBoost] Created 2 new actors (2 total actors). Waiting until actors are ready for training.\n",
            "2021-11-10 14:37:31,638\tINFO main.py:1016 -- [RayXGBoost] Starting XGBoost training.\n",
            "\u001b[2m\u001b[36m(pid=287)\u001b[0m [14:37:31] WARNING: /workspace/src/learner.cc:622: Tree method is automatically selected to be 'approx' for distributed training.\n",
            "\u001b[2m\u001b[36m(pid=287)\u001b[0m [14:37:31] Tree method is automatically selected to be 'approx' for distributed training.\n",
            "\u001b[2m\u001b[36m(pid=311)\u001b[0m [14:37:31] WARNING: /workspace/src/learner.cc:622: Tree method is automatically selected to be 'approx' for distributed training.\n",
            "\u001b[2m\u001b[36m(pid=311)\u001b[0m [14:37:31] Tree method is automatically selected to be 'approx' for distributed training.\n",
            "2021-11-10 14:37:33,029\tINFO main.py:1498 -- [RayXGBoost] Finished XGBoost training on training data with total N=569 in 4.26 seconds (1.38 pure XGBoost training time).\n"
          ]
        },
        {
          "output_type": "stream",
          "name": "stdout",
          "text": [
            "Final training error: 0.0053\n"
          ]
        }
      ]
    },
    {
      "cell_type": "code",
      "metadata": {
        "colab": {
          "base_uri": "https://localhost:8080/"
        },
        "id": "v9mD4G8DPLxz",
        "outputId": "04ea2ef8-3f81-43c3-8327-88c692bc67c5"
      },
      "source": [
        "from xgboost_ray import RayDMatrix, RayParams, predict\n",
        "from sklearn.datasets import load_breast_cancer\n",
        "import xgboost as xgb\n",
        "\n",
        "data, labels = load_breast_cancer(return_X_y=True)\n",
        "\n",
        "dpred = RayDMatrix(data, labels)\n",
        "\n",
        "bst = xgb.Booster(model_file=\"model.xgb\")\n",
        "pred_ray = predict(bst, dpred, ray_params=RayParams(num_actors=2))\n",
        "\n",
        "print(pred_ray)"
      ],
      "execution_count": null,
      "outputs": [
        {
          "output_type": "stream",
          "name": "stderr",
          "text": [
            "/usr/local/lib/python3.7/dist-packages/xgboost_ray/main.py:166: UserWarning: You are using `xgboost_ray` with a legacy XGBoost version (version 0.90). While we try to support older XGBoost versions, please note that this library is only fully tested and supported for XGBoost >= 1.4. Please consider upgrading your XGBoost version (`pip install -U xgboost`).\n",
            "  warnings.warn(LEGACY_WARNING)\n",
            "2021-11-10 14:37:33,103\tINFO main.py:1535 -- [RayXGBoost] Created 2 remote actors.\n",
            "2021-11-10 14:37:35,404\tINFO main.py:1552 -- [RayXGBoost] Starting XGBoost prediction.\n"
          ]
        },
        {
          "output_type": "stream",
          "name": "stdout",
          "text": [
            "[0.07511145 0.04715708 0.02642454 0.11464816 0.08779665 0.19609766\n",
            " 0.02642454 0.03200296 0.03968306 0.06930447 0.09290799 0.02642454\n",
            " 0.03476055 0.05490047 0.05012454 0.02642454 0.03337562 0.02642454\n",
            " 0.02642454 0.9528658  0.9751126  0.9751126  0.07511145 0.02642454\n",
            " 0.02642454 0.04102892 0.03118352 0.02642454 0.02642454 0.08779665\n",
            " 0.02642454 0.03476055 0.02642454 0.02642454 0.02642454 0.02642454\n",
            " 0.0665335  0.9690314  0.33619487 0.0696831  0.5729184  0.15662025\n",
            " 0.03451282 0.03200296 0.12301622 0.04102892 0.9751126  0.04096693\n",
            " 0.97315884 0.9234187  0.9751126  0.9751126  0.9751126  0.03059936\n",
            " 0.09855346 0.9751126  0.02642454 0.03755146 0.9751126  0.97315884\n",
            " 0.9751126  0.97315884 0.02642454 0.9751126  0.03120249 0.03120249\n",
            " 0.97315884 0.9751126  0.8630876  0.9751126  0.02642454 0.9751126\n",
            " 0.02642454 0.18486539 0.9751126  0.02642454 0.9684864  0.07511145\n",
            " 0.04528174 0.9751126  0.97315884 0.8423582  0.02642454 0.02642454\n",
            " 0.9751126  0.02642454 0.18525673 0.02642454 0.9610139  0.91992867\n",
            " 0.9637276  0.07784454 0.9476124  0.9751126  0.02642454 0.02642454\n",
            " 0.9751126  0.9690314  0.97315884 0.04415701 0.10755398 0.97315884\n",
            " 0.9751126  0.97315884 0.9751126  0.07822353 0.9541412  0.9751126\n",
            " 0.03451282 0.97315884 0.97315884 0.9505852  0.8015017  0.9751126\n",
            " 0.97315884 0.97315884 0.9690314  0.02642454 0.02642454 0.03059936\n",
            " 0.97315884 0.02642454 0.03451282 0.93471986 0.9751126  0.9751126\n",
            " 0.08796025 0.03059936 0.89851445 0.02642454 0.97315884 0.02642454\n",
            " 0.03059936 0.8943731  0.03059936 0.83710206 0.9690314  0.9751126\n",
            " 0.04825843 0.9751126  0.9751126  0.06849893 0.9751126  0.9751126\n",
            " 0.9751126  0.97315884 0.14397003 0.9537103  0.8998925  0.9543276\n",
            " 0.9751126  0.97315884 0.911794   0.9751126  0.9622466  0.9751126\n",
            " 0.02642454 0.64313    0.9751126  0.9751126  0.95592535 0.08779665\n",
            " 0.02642454 0.97315884 0.02642454 0.9657479  0.97315884 0.03337562\n",
            " 0.02642454 0.9724673  0.9751126  0.0708931  0.07511145 0.9690314\n",
            " 0.96707124 0.9751126  0.9751126  0.02642454 0.95819813 0.9690314\n",
            " 0.02642454 0.02642454 0.03337562 0.9690314  0.09398807 0.97315884\n",
            " 0.03517583 0.9751126  0.9751126  0.9751126  0.04069214 0.77108157\n",
            " 0.9434622  0.08649345 0.02786062 0.9751126  0.03120249 0.07338996\n",
            " 0.02642454 0.03118352 0.97315884 0.02642454 0.02642454 0.02642454\n",
            " 0.9622466  0.21271785 0.9751126  0.06340088 0.8858816  0.8857505\n",
            " 0.02642454 0.9751126  0.08779665 0.04224477 0.03755146 0.04096693\n",
            " 0.96730274 0.9751126  0.02642454 0.02642454 0.9751126  0.9751126\n",
            " 0.9751126  0.02642454 0.9751126  0.92772865 0.9751126  0.95374286\n",
            " 0.9610139  0.0557286  0.02642454 0.94982344 0.94982344 0.02642454\n",
            " 0.97315884 0.9751126  0.02642454 0.02863778 0.90234286 0.02642454\n",
            " 0.9751126  0.9543276  0.96730274 0.9649017  0.02642454 0.97315884\n",
            " 0.9751126  0.9469942  0.93040526 0.9751126  0.03451282 0.9751126\n",
            " 0.02642454 0.02642454 0.02642454 0.11561671 0.02642454 0.031783\n",
            " 0.03476055 0.02786062 0.02642454 0.09290799 0.02642454 0.21080676\n",
            " 0.02642454 0.02642454 0.9751126  0.9751126  0.9751126  0.9751126\n",
            " 0.9751126  0.9751126  0.02642454 0.97315884 0.04558344 0.8849121\n",
            " 0.9751126  0.03059936 0.96707124 0.9751126  0.02642454 0.9560918\n",
            " 0.02642454 0.04338858 0.9751126  0.9751126  0.96730274 0.9751126\n",
            " 0.9684864  0.9751126  0.8488096  0.7803997  0.9622466  0.9751126\n",
            " 0.9751126  0.9751126  0.9751126  0.5849058  0.92148197 0.9751126\n",
            " 0.02642454 0.9751126  0.02642454 0.9751126  0.9751126  0.9751126\n",
            " 0.9751126  0.9751126  0.9683355  0.9751126  0.9751126  0.9548208\n",
            " 0.9751126  0.9751126  0.9751126  0.9690314  0.96707124 0.02642454\n",
            " 0.968825   0.9690314  0.9751126  0.04054494 0.9265608  0.02642454\n",
            " 0.9751126  0.9751126  0.9751126  0.9751126  0.02642454 0.05098807\n",
            " 0.031783   0.9751126  0.97315884 0.9751126  0.9751126  0.02642454\n",
            " 0.9751126  0.02642454 0.9751126  0.02642454 0.89866334 0.9751126\n",
            " 0.9751126  0.02642454 0.97315884 0.9751126  0.9751126  0.9203737\n",
            " 0.97315884 0.9751126  0.9751126  0.03451282 0.031783   0.02642454\n",
            " 0.9751126  0.9751126  0.9206134  0.9751126  0.95757306 0.9751126\n",
            " 0.96707124 0.9751126  0.9751126  0.7381298  0.9751126  0.02642454\n",
            " 0.02642454 0.9751126  0.02642454 0.02642454 0.02642454 0.9523307\n",
            " 0.04687763 0.031783   0.9751126  0.8943731  0.94464666 0.94982344\n",
            " 0.9751126  0.22631724 0.9487874  0.9751126  0.9751126  0.97315884\n",
            " 0.9751126  0.08594519 0.9751126  0.9751126  0.9751126  0.02642454\n",
            " 0.9751126  0.97315884 0.02642454 0.02642454 0.97315884 0.9751126\n",
            " 0.8689699  0.9690314  0.9751126  0.9751126  0.02642454 0.9751126\n",
            " 0.9751126  0.9543276  0.9751126  0.9751126  0.8515399  0.9350665\n",
            " 0.02642454 0.9751126  0.9251611  0.9751126  0.9751126  0.860673\n",
            " 0.1858404  0.97315884 0.97315884 0.02642454 0.9751126  0.9751126\n",
            " 0.9751126  0.8970261  0.9751126  0.9609949  0.893762   0.9751126\n",
            " 0.9751126  0.9751126  0.9751126  0.96707124 0.02786062 0.9622466\n",
            " 0.02642454 0.02642454 0.9724673  0.03678946 0.9751126  0.9751126\n",
            " 0.9751126  0.9751126  0.95394206 0.02642454 0.9690314  0.9751126\n",
            " 0.04687763 0.94922996 0.02642454 0.9724673  0.9100143  0.02642454\n",
            " 0.9751126  0.02642454 0.94982344 0.9532535  0.9751126  0.9179891\n",
            " 0.935264   0.94982344 0.9751126  0.94982344 0.02642454 0.02642454\n",
            " 0.9751126  0.9751126  0.9751126  0.897271   0.96229064 0.9751126\n",
            " 0.02642454 0.9019002  0.9751126  0.9134064  0.87593234 0.94982344\n",
            " 0.9751126  0.9751126  0.81142044 0.9543276  0.9751126  0.031783\n",
            " 0.9751126  0.9476124  0.95515615 0.9543276  0.77870756 0.95053387\n",
            " 0.9548208  0.02642454 0.97315884 0.13313308 0.9751126  0.66283953\n",
            " 0.02642454 0.9751126  0.9751126  0.9008776  0.9407183  0.9751126\n",
            " 0.031783   0.02642454 0.9318961  0.04316882 0.9622466  0.02875218\n",
            " 0.9684864  0.9684864  0.9751126  0.97315884 0.9424551  0.02939261\n",
            " 0.9751126  0.96550983 0.03120249 0.93631655 0.1288219  0.9645091\n",
            " 0.02642454 0.02642454 0.9505852  0.9622466  0.97315884 0.02642454\n",
            " 0.9751126  0.9528658  0.97315884 0.97315884 0.93502516 0.9751126\n",
            " 0.950505   0.97315884 0.9751126  0.97315884 0.96634287 0.02642454\n",
            " 0.97315884 0.02642454 0.15464528 0.9293252  0.9751126  0.97315884\n",
            " 0.9751126  0.860673   0.94011134 0.9417494  0.9751126  0.9751126\n",
            " 0.9751126  0.97315884 0.9751126  0.9751126  0.9751126  0.9751126\n",
            " 0.94982344 0.9751126  0.94982344 0.88763565 0.9751126  0.94982344\n",
            " 0.9641301  0.88763565 0.92064005 0.9379563  0.02786062 0.02642454\n",
            " 0.02642454 0.02642454 0.03059936 0.02642454 0.9751126 ]\n"
          ]
        }
      ]
    },
    {
      "cell_type": "code",
      "metadata": {
        "colab": {
          "base_uri": "https://localhost:8080/",
          "height": 1000
        },
        "id": "3dBkJ7CsPNwl",
        "outputId": "20897cba-4051-4832-eeef-cdabbfd4d047"
      },
      "source": [
        "from xgboost_ray import RayDMatrix, RayParams, train\n",
        "from sklearn.datasets import load_breast_cancer\n",
        "\n",
        "num_actors = 1\n",
        "num_cpus_per_actor = 1\n",
        "\n",
        "ray_params = RayParams(\n",
        "    num_actors=num_actors, cpus_per_actor=num_cpus_per_actor)\n",
        "\n",
        "def train_model(config):\n",
        "    train_x, train_y = load_breast_cancer(return_X_y=True)\n",
        "    train_set = RayDMatrix(train_x, train_y)\n",
        "\n",
        "    evals_result = {}\n",
        "    bst = train(\n",
        "        params=config,\n",
        "        dtrain=train_set,\n",
        "        evals_result=evals_result,\n",
        "        evals=[(train_set, \"train\")],\n",
        "        verbose_eval=False,\n",
        "        ray_params=ray_params)\n",
        "    bst.save_model(\"model.xgb\")\n",
        "\n",
        "from ray import tune\n",
        "\n",
        "# Specify the hyperparameter search space.\n",
        "config = {\n",
        "    \"tree_method\": \"approx\",\n",
        "    \"objective\": \"binary:logistic\",\n",
        "    \"eval_metric\": [\"logloss\", \"error\"],\n",
        "    \"eta\": tune.loguniform(1e-4, 1e-1),\n",
        "    \"subsample\": tune.uniform(0.5, 1.0),\n",
        "    \"max_depth\": tune.randint(1, 9)\n",
        "}\n",
        "\n",
        "# Make sure to use the `get_tune_resources` method to set the `resources_per_trial`\n",
        "analysis = tune.run(\n",
        "    train_model,\n",
        "    config=config,\n",
        "    metric=\"train-error\",\n",
        "    mode=\"min\",\n",
        "    num_samples=4,\n",
        "    resources_per_trial=ray_params.get_tune_resources())\n",
        "print(\"Best hyperparameters\", analysis.best_config)"
      ],
      "execution_count": null,
      "outputs": [
        {
          "output_type": "stream",
          "name": "stderr",
          "text": [
            "2021-11-10 14:37:35,510\tWARNING function_runner.py:564 -- Function checkpointing is disabled. This may result in unexpected behavior when using checkpointing features or certain schedulers. To enable, set the train function arguments to be `func(config, checkpoint_dir=None)`.\n",
            "2021-11-10 14:37:35,530\tINFO logger.py:606 -- pip install 'ray[tune]' to see TensorBoard files.\n",
            "2021-11-10 14:37:35,532\tWARNING callback.py:115 -- The TensorboardX logger cannot be instantiated because either TensorboardX or one of it's dependencies is not installed. Please make sure you have the latest version of TensorboardX installed: `pip install -U tensorboardx`\n"
          ]
        },
        {
          "output_type": "display_data",
          "data": {
            "text/html": [
              "== Status ==<br>Current time: 2021-11-10 14:37:35 (running for 00:00:00.16)<br>Memory usage on this node: 1.2/12.7 GiB<br>Using FIFO scheduling algorithm.<br>Resources requested: 0/2 CPUs, 0/0 GPUs, 0.0/7.31 GiB heap, 0.0/3.65 GiB objects<br>Result logdir: /root/ray_results/train_model_2021-11-10_14-37-35<br>Number of trials: 4/4 (4 PENDING)<br><table>\n",
              "<thead>\n",
              "<tr><th>Trial name             </th><th>status  </th><th>loc  </th><th style=\"text-align: right;\">        eta</th><th style=\"text-align: right;\">  max_depth</th><th style=\"text-align: right;\">  subsample</th></tr>\n",
              "</thead>\n",
              "<tbody>\n",
              "<tr><td>train_model_bee83_00000</td><td>PENDING </td><td>     </td><td style=\"text-align: right;\">0.0070233  </td><td style=\"text-align: right;\">          7</td><td style=\"text-align: right;\">   0.907962</td></tr>\n",
              "<tr><td>train_model_bee83_00001</td><td>PENDING </td><td>     </td><td style=\"text-align: right;\">0.00202672 </td><td style=\"text-align: right;\">          5</td><td style=\"text-align: right;\">   0.961565</td></tr>\n",
              "<tr><td>train_model_bee83_00002</td><td>PENDING </td><td>     </td><td style=\"text-align: right;\">0.000248038</td><td style=\"text-align: right;\">          2</td><td style=\"text-align: right;\">   0.524566</td></tr>\n",
              "<tr><td>train_model_bee83_00003</td><td>PENDING </td><td>     </td><td style=\"text-align: right;\">0.01038    </td><td style=\"text-align: right;\">          8</td><td style=\"text-align: right;\">   0.888123</td></tr>\n",
              "</tbody>\n",
              "</table><br><br>"
            ],
            "text/plain": [
              "<IPython.core.display.HTML object>"
            ]
          },
          "metadata": {}
        },
        {
          "output_type": "stream",
          "name": "stderr",
          "text": [
            "\u001b[2m\u001b[36m(pid=391)\u001b[0m /usr/local/lib/python3.7/dist-packages/xgboost_ray/main.py:166: UserWarning: You are using `xgboost_ray` with a legacy XGBoost version (version 0.90). While we try to support older XGBoost versions, please note that this library is only fully tested and supported for XGBoost >= 1.4. Please consider upgrading your XGBoost version (`pip install -U xgboost`).\n",
            "\u001b[2m\u001b[36m(pid=391)\u001b[0m   warnings.warn(LEGACY_WARNING)\n",
            "\u001b[2m\u001b[36m(pid=391)\u001b[0m /usr/local/lib/python3.7/dist-packages/xgboost_ray/main.py:422: UserWarning: `num_actors` in `ray_params` is smaller than 2 (1). XGBoost will NOT be distributed!\n",
            "\u001b[2m\u001b[36m(pid=391)\u001b[0m   f\"`num_actors` in `ray_params` is smaller than 2 \"\n",
            "\u001b[2m\u001b[36m(pid=391)\u001b[0m 2021-11-10 14:37:37,847\tINFO main.py:971 -- [RayXGBoost] Created 1 new actors (1 total actors). Waiting until actors are ready for training.\n",
            "\u001b[2m\u001b[36m(pid=391)\u001b[0m 2021-11-10 14:37:40,360\tINFO main.py:1016 -- [RayXGBoost] Starting XGBoost training.\n"
          ]
        },
        {
          "output_type": "display_data",
          "data": {
            "text/html": [
              "== Status ==<br>Current time: 2021-11-10 14:37:40 (running for 00:00:05.17)<br>Memory usage on this node: 1.4/12.7 GiB<br>Using FIFO scheduling algorithm.<br>Resources requested: 2.0/2 CPUs, 0/0 GPUs, 0.0/7.31 GiB heap, 0.0/3.65 GiB objects<br>Result logdir: /root/ray_results/train_model_2021-11-10_14-37-35<br>Number of trials: 4/4 (3 PENDING, 1 RUNNING)<br><table>\n",
              "<thead>\n",
              "<tr><th>Trial name             </th><th>status  </th><th>loc           </th><th style=\"text-align: right;\">        eta</th><th style=\"text-align: right;\">  max_depth</th><th style=\"text-align: right;\">  subsample</th></tr>\n",
              "</thead>\n",
              "<tbody>\n",
              "<tr><td>train_model_bee83_00000</td><td>RUNNING </td><td>172.28.0.2:391</td><td style=\"text-align: right;\">0.0070233  </td><td style=\"text-align: right;\">          7</td><td style=\"text-align: right;\">   0.907962</td></tr>\n",
              "<tr><td>train_model_bee83_00001</td><td>PENDING </td><td>              </td><td style=\"text-align: right;\">0.00202672 </td><td style=\"text-align: right;\">          5</td><td style=\"text-align: right;\">   0.961565</td></tr>\n",
              "<tr><td>train_model_bee83_00002</td><td>PENDING </td><td>              </td><td style=\"text-align: right;\">0.000248038</td><td style=\"text-align: right;\">          2</td><td style=\"text-align: right;\">   0.524566</td></tr>\n",
              "<tr><td>train_model_bee83_00003</td><td>PENDING </td><td>              </td><td style=\"text-align: right;\">0.01038    </td><td style=\"text-align: right;\">          8</td><td style=\"text-align: right;\">   0.888123</td></tr>\n",
              "</tbody>\n",
              "</table><br><br>"
            ],
            "text/plain": [
              "<IPython.core.display.HTML object>"
            ]
          },
          "metadata": {}
        },
        {
          "output_type": "stream",
          "name": "stdout",
          "text": [
            "Result for train_model_bee83_00000:\n",
            "  date: 2021-11-10_14-37-41\n",
            "  done: false\n",
            "  experiment_id: 56931ad7f7f44380aa0dc2fa7de6f168\n",
            "  hostname: c5c57dd5df1b\n",
            "  iterations_since_restore: 1\n",
            "  node_ip: 172.28.0.2\n",
            "  pid: 391\n",
            "  time_since_restore: 3.597384452819824\n",
            "  time_this_iter_s: 3.597384452819824\n",
            "  time_total_s: 3.597384452819824\n",
            "  timestamp: 1636555061\n",
            "  timesteps_since_restore: 0\n",
            "  train-error: 0.024605\n",
            "  train-logloss: 0.686876\n",
            "  training_iteration: 1\n",
            "  trial_id: bee83_00000\n",
            "  \n",
            "Result for train_model_bee83_00000:\n",
            "  date: 2021-11-10_14-37-41\n",
            "  done: true\n",
            "  experiment_id: 56931ad7f7f44380aa0dc2fa7de6f168\n",
            "  experiment_tag: 0_eta=0.0070233,max_depth=7,subsample=0.90796\n",
            "  hostname: c5c57dd5df1b\n",
            "  iterations_since_restore: 10\n",
            "  node_ip: 172.28.0.2\n",
            "  pid: 391\n",
            "  time_since_restore: 3.6553170680999756\n",
            "  time_this_iter_s: 0.004830360412597656\n",
            "  time_total_s: 3.6553170680999756\n",
            "  timestamp: 1636555061\n",
            "  timesteps_since_restore: 0\n",
            "  train-error: 0.008787\n",
            "  train-logloss: 0.63437\n",
            "  training_iteration: 10\n",
            "  trial_id: bee83_00000\n",
            "  \n"
          ]
        },
        {
          "output_type": "stream",
          "name": "stderr",
          "text": [
            "\u001b[2m\u001b[36m(pid=391)\u001b[0m 2021-11-10 14:37:41,467\tINFO main.py:1498 -- [RayXGBoost] Finished XGBoost training on training data with total N=569 in 3.67 seconds (1.10 pure XGBoost training time).\n"
          ]
        },
        {
          "output_type": "stream",
          "name": "stdout",
          "text": [
            "\u001b[2m\u001b[1m\u001b[36m(scheduler +17s)\u001b[0m Tip: use `ray status` to view detailed cluster status. To disable these messages, set RAY_SCHEDULER_EVENTS=0.\n",
            "\u001b[2m\u001b[1m\u001b[33m(scheduler +17s)\u001b[0m Warning: The following resource request cannot be scheduled right now: {'CPU': 1.0}. This is likely due to all cluster resources being claimed by actors. Consider creating fewer actors or adding more nodes to this Ray cluster.\n"
          ]
        },
        {
          "output_type": "stream",
          "name": "stderr",
          "text": [
            "\u001b[2m\u001b[36m(pid=497)\u001b[0m /usr/local/lib/python3.7/dist-packages/xgboost_ray/main.py:166: UserWarning: You are using `xgboost_ray` with a legacy XGBoost version (version 0.90). While we try to support older XGBoost versions, please note that this library is only fully tested and supported for XGBoost >= 1.4. Please consider upgrading your XGBoost version (`pip install -U xgboost`).\n",
            "\u001b[2m\u001b[36m(pid=497)\u001b[0m   warnings.warn(LEGACY_WARNING)\n",
            "\u001b[2m\u001b[36m(pid=497)\u001b[0m /usr/local/lib/python3.7/dist-packages/xgboost_ray/main.py:422: UserWarning: `num_actors` in `ray_params` is smaller than 2 (1). XGBoost will NOT be distributed!\n",
            "\u001b[2m\u001b[36m(pid=497)\u001b[0m   f\"`num_actors` in `ray_params` is smaller than 2 \"\n",
            "\u001b[2m\u001b[36m(pid=497)\u001b[0m 2021-11-10 14:37:43,423\tINFO main.py:971 -- [RayXGBoost] Created 1 new actors (1 total actors). Waiting until actors are ready for training.\n",
            "\u001b[2m\u001b[36m(pid=497)\u001b[0m 2021-11-10 14:37:45,937\tINFO main.py:1016 -- [RayXGBoost] Starting XGBoost training.\n"
          ]
        },
        {
          "output_type": "display_data",
          "data": {
            "text/html": [
              "== Status ==<br>Current time: 2021-11-10 14:37:46 (running for 00:00:11.16)<br>Memory usage on this node: 1.4/12.7 GiB<br>Using FIFO scheduling algorithm.<br>Resources requested: 2.0/2 CPUs, 0/0 GPUs, 0.0/7.31 GiB heap, 0.0/3.65 GiB objects<br>Current best trial: bee83_00000 with train-error=0.008787 and parameters={'tree_method': 'approx', 'objective': 'binary:logistic', 'eval_metric': ['logloss', 'error'], 'eta': 0.007023299237114316, 'subsample': 0.907962339015004, 'max_depth': 7, 'nthread': 1, 'n_jobs': 1}<br>Result logdir: /root/ray_results/train_model_2021-11-10_14-37-35<br>Number of trials: 4/4 (2 PENDING, 1 RUNNING, 1 TERMINATED)<br><table>\n",
              "<thead>\n",
              "<tr><th>Trial name             </th><th>status    </th><th>loc           </th><th style=\"text-align: right;\">        eta</th><th style=\"text-align: right;\">  max_depth</th><th style=\"text-align: right;\">  subsample</th><th style=\"text-align: right;\">  iter</th><th style=\"text-align: right;\">  total time (s)</th><th style=\"text-align: right;\">  train-logloss</th><th style=\"text-align: right;\">  train-error</th></tr>\n",
              "</thead>\n",
              "<tbody>\n",
              "<tr><td>train_model_bee83_00001</td><td>RUNNING   </td><td>172.28.0.2:497</td><td style=\"text-align: right;\">0.00202672 </td><td style=\"text-align: right;\">          5</td><td style=\"text-align: right;\">   0.961565</td><td style=\"text-align: right;\">      </td><td style=\"text-align: right;\">                </td><td style=\"text-align: right;\">               </td><td style=\"text-align: right;\">             </td></tr>\n",
              "<tr><td>train_model_bee83_00002</td><td>PENDING   </td><td>              </td><td style=\"text-align: right;\">0.000248038</td><td style=\"text-align: right;\">          2</td><td style=\"text-align: right;\">   0.524566</td><td style=\"text-align: right;\">      </td><td style=\"text-align: right;\">                </td><td style=\"text-align: right;\">               </td><td style=\"text-align: right;\">             </td></tr>\n",
              "<tr><td>train_model_bee83_00003</td><td>PENDING   </td><td>              </td><td style=\"text-align: right;\">0.01038    </td><td style=\"text-align: right;\">          8</td><td style=\"text-align: right;\">   0.888123</td><td style=\"text-align: right;\">      </td><td style=\"text-align: right;\">                </td><td style=\"text-align: right;\">               </td><td style=\"text-align: right;\">             </td></tr>\n",
              "<tr><td>train_model_bee83_00000</td><td>TERMINATED</td><td>172.28.0.2:391</td><td style=\"text-align: right;\">0.0070233  </td><td style=\"text-align: right;\">          7</td><td style=\"text-align: right;\">   0.907962</td><td style=\"text-align: right;\">    10</td><td style=\"text-align: right;\">         3.65532</td><td style=\"text-align: right;\">        0.63437</td><td style=\"text-align: right;\">     0.008787</td></tr>\n",
              "</tbody>\n",
              "</table><br><br>"
            ],
            "text/plain": [
              "<IPython.core.display.HTML object>"
            ]
          },
          "metadata": {}
        },
        {
          "output_type": "stream",
          "name": "stdout",
          "text": [
            "Result for train_model_bee83_00001:\n",
            "  date: 2021-11-10_14-37-46\n",
            "  done: false\n",
            "  experiment_id: 36d9bd97d84049f09b5ee7c0b5ed09b6\n",
            "  hostname: c5c57dd5df1b\n",
            "  iterations_since_restore: 1\n",
            "  node_ip: 172.28.0.2\n",
            "  pid: 497\n",
            "  time_since_restore: 3.6010358333587646\n",
            "  time_this_iter_s: 3.6010358333587646\n",
            "  time_total_s: 3.6010358333587646\n",
            "  timestamp: 1636555066\n",
            "  timesteps_since_restore: 0\n",
            "  train-error: 0.019332\n",
            "  train-logloss: 0.691328\n",
            "  training_iteration: 1\n",
            "  trial_id: bee83_00001\n",
            "  \n",
            "Result for train_model_bee83_00001:\n",
            "  date: 2021-11-10_14-37-47\n",
            "  done: true\n",
            "  experiment_id: 36d9bd97d84049f09b5ee7c0b5ed09b6\n",
            "  experiment_tag: 1_eta=0.0020267,max_depth=5,subsample=0.96156\n",
            "  hostname: c5c57dd5df1b\n",
            "  iterations_since_restore: 10\n",
            "  node_ip: 172.28.0.2\n",
            "  pid: 497\n",
            "  time_since_restore: 3.663809299468994\n",
            "  time_this_iter_s: 0.006303310394287109\n",
            "  time_total_s: 3.663809299468994\n",
            "  timestamp: 1636555067\n",
            "  timesteps_since_restore: 0\n",
            "  train-error: 0.010545\n",
            "  train-logloss: 0.675458\n",
            "  training_iteration: 10\n",
            "  trial_id: bee83_00001\n",
            "  \n"
          ]
        },
        {
          "output_type": "stream",
          "name": "stderr",
          "text": [
            "\u001b[2m\u001b[36m(pid=497)\u001b[0m 2021-11-10 14:37:47,047\tINFO main.py:1498 -- [RayXGBoost] Finished XGBoost training on training data with total N=569 in 3.68 seconds (1.11 pure XGBoost training time).\n",
            "\u001b[2m\u001b[36m(pid=601)\u001b[0m /usr/local/lib/python3.7/dist-packages/xgboost_ray/main.py:166: UserWarning: You are using `xgboost_ray` with a legacy XGBoost version (version 0.90). While we try to support older XGBoost versions, please note that this library is only fully tested and supported for XGBoost >= 1.4. Please consider upgrading your XGBoost version (`pip install -U xgboost`).\n",
            "\u001b[2m\u001b[36m(pid=601)\u001b[0m   warnings.warn(LEGACY_WARNING)\n",
            "\u001b[2m\u001b[36m(pid=601)\u001b[0m /usr/local/lib/python3.7/dist-packages/xgboost_ray/main.py:422: UserWarning: `num_actors` in `ray_params` is smaller than 2 (1). XGBoost will NOT be distributed!\n",
            "\u001b[2m\u001b[36m(pid=601)\u001b[0m   f\"`num_actors` in `ray_params` is smaller than 2 \"\n",
            "\u001b[2m\u001b[36m(pid=601)\u001b[0m 2021-11-10 14:37:48,971\tINFO main.py:971 -- [RayXGBoost] Created 1 new actors (1 total actors). Waiting until actors are ready for training.\n",
            "\u001b[2m\u001b[36m(pid=601)\u001b[0m 2021-11-10 14:37:51,492\tINFO main.py:1016 -- [RayXGBoost] Starting XGBoost training.\n"
          ]
        },
        {
          "output_type": "display_data",
          "data": {
            "text/html": [
              "== Status ==<br>Current time: 2021-11-10 14:37:52 (running for 00:00:16.53)<br>Memory usage on this node: 1.4/12.7 GiB<br>Using FIFO scheduling algorithm.<br>Resources requested: 2.0/2 CPUs, 0/0 GPUs, 0.0/7.31 GiB heap, 0.0/3.65 GiB objects<br>Current best trial: bee83_00000 with train-error=0.008787 and parameters={'tree_method': 'approx', 'objective': 'binary:logistic', 'eval_metric': ['logloss', 'error'], 'eta': 0.007023299237114316, 'subsample': 0.907962339015004, 'max_depth': 7, 'nthread': 1, 'n_jobs': 1}<br>Result logdir: /root/ray_results/train_model_2021-11-10_14-37-35<br>Number of trials: 4/4 (1 PENDING, 1 RUNNING, 2 TERMINATED)<br><table>\n",
              "<thead>\n",
              "<tr><th>Trial name             </th><th>status    </th><th>loc           </th><th style=\"text-align: right;\">        eta</th><th style=\"text-align: right;\">  max_depth</th><th style=\"text-align: right;\">  subsample</th><th style=\"text-align: right;\">  iter</th><th style=\"text-align: right;\">  total time (s)</th><th style=\"text-align: right;\">  train-logloss</th><th style=\"text-align: right;\">  train-error</th></tr>\n",
              "</thead>\n",
              "<tbody>\n",
              "<tr><td>train_model_bee83_00002</td><td>RUNNING   </td><td>172.28.0.2:601</td><td style=\"text-align: right;\">0.000248038</td><td style=\"text-align: right;\">          2</td><td style=\"text-align: right;\">   0.524566</td><td style=\"text-align: right;\">      </td><td style=\"text-align: right;\">                </td><td style=\"text-align: right;\">               </td><td style=\"text-align: right;\">             </td></tr>\n",
              "<tr><td>train_model_bee83_00003</td><td>PENDING   </td><td>              </td><td style=\"text-align: right;\">0.01038    </td><td style=\"text-align: right;\">          8</td><td style=\"text-align: right;\">   0.888123</td><td style=\"text-align: right;\">      </td><td style=\"text-align: right;\">                </td><td style=\"text-align: right;\">               </td><td style=\"text-align: right;\">             </td></tr>\n",
              "<tr><td>train_model_bee83_00000</td><td>TERMINATED</td><td>172.28.0.2:391</td><td style=\"text-align: right;\">0.0070233  </td><td style=\"text-align: right;\">          7</td><td style=\"text-align: right;\">   0.907962</td><td style=\"text-align: right;\">    10</td><td style=\"text-align: right;\">         3.65532</td><td style=\"text-align: right;\">       0.63437 </td><td style=\"text-align: right;\">     0.008787</td></tr>\n",
              "<tr><td>train_model_bee83_00001</td><td>TERMINATED</td><td>172.28.0.2:497</td><td style=\"text-align: right;\">0.00202672 </td><td style=\"text-align: right;\">          5</td><td style=\"text-align: right;\">   0.961565</td><td style=\"text-align: right;\">    10</td><td style=\"text-align: right;\">         3.66381</td><td style=\"text-align: right;\">       0.675458</td><td style=\"text-align: right;\">     0.010545</td></tr>\n",
              "</tbody>\n",
              "</table><br><br>"
            ],
            "text/plain": [
              "<IPython.core.display.HTML object>"
            ]
          },
          "metadata": {}
        },
        {
          "output_type": "stream",
          "name": "stdout",
          "text": [
            "Result for train_model_bee83_00002:\n",
            "  date: 2021-11-10_14-37-52\n",
            "  done: false\n",
            "  experiment_id: 3c2b59f677fb424e9234a0a72e3433d6\n",
            "  hostname: c5c57dd5df1b\n",
            "  iterations_since_restore: 1\n",
            "  node_ip: 172.28.0.2\n",
            "  pid: 601\n",
            "  time_since_restore: 3.636870861053467\n",
            "  time_this_iter_s: 3.636870861053467\n",
            "  time_total_s: 3.636870861053467\n",
            "  timestamp: 1636555072\n",
            "  timesteps_since_restore: 0\n",
            "  train-error: 0.052724\n",
            "  train-logloss: 0.692947\n",
            "  training_iteration: 1\n",
            "  trial_id: bee83_00002\n",
            "  \n",
            "Result for train_model_bee83_00002:\n",
            "  date: 2021-11-10_14-37-52\n",
            "  done: true\n",
            "  experiment_id: 3c2b59f677fb424e9234a0a72e3433d6\n",
            "  experiment_tag: 2_eta=0.00024804,max_depth=2,subsample=0.52457\n",
            "  hostname: c5c57dd5df1b\n",
            "  iterations_since_restore: 10\n",
            "  node_ip: 172.28.0.2\n",
            "  pid: 601\n",
            "  time_since_restore: 3.69773268699646\n",
            "  time_this_iter_s: 0.0052258968353271484\n",
            "  time_total_s: 3.69773268699646\n",
            "  timestamp: 1636555072\n",
            "  timesteps_since_restore: 0\n",
            "  train-error: 0.043937\n",
            "  train-logloss: 0.691156\n",
            "  training_iteration: 10\n",
            "  trial_id: bee83_00002\n",
            "  \n"
          ]
        },
        {
          "output_type": "stream",
          "name": "stderr",
          "text": [
            "\u001b[2m\u001b[36m(pid=601)\u001b[0m 2021-11-10 14:37:52,605\tINFO main.py:1498 -- [RayXGBoost] Finished XGBoost training on training data with total N=569 in 3.71 seconds (1.11 pure XGBoost training time).\n",
            "\u001b[2m\u001b[36m(pid=705)\u001b[0m /usr/local/lib/python3.7/dist-packages/xgboost_ray/main.py:166: UserWarning: You are using `xgboost_ray` with a legacy XGBoost version (version 0.90). While we try to support older XGBoost versions, please note that this library is only fully tested and supported for XGBoost >= 1.4. Please consider upgrading your XGBoost version (`pip install -U xgboost`).\n",
            "\u001b[2m\u001b[36m(pid=705)\u001b[0m   warnings.warn(LEGACY_WARNING)\n",
            "\u001b[2m\u001b[36m(pid=705)\u001b[0m /usr/local/lib/python3.7/dist-packages/xgboost_ray/main.py:422: UserWarning: `num_actors` in `ray_params` is smaller than 2 (1). XGBoost will NOT be distributed!\n",
            "\u001b[2m\u001b[36m(pid=705)\u001b[0m   f\"`num_actors` in `ray_params` is smaller than 2 \"\n",
            "\u001b[2m\u001b[36m(pid=705)\u001b[0m 2021-11-10 14:37:54,482\tINFO main.py:971 -- [RayXGBoost] Created 1 new actors (1 total actors). Waiting until actors are ready for training.\n",
            "\u001b[2m\u001b[36m(pid=705)\u001b[0m 2021-11-10 14:37:56,998\tINFO main.py:1016 -- [RayXGBoost] Starting XGBoost training.\n"
          ]
        },
        {
          "output_type": "display_data",
          "data": {
            "text/html": [
              "== Status ==<br>Current time: 2021-11-10 14:37:57 (running for 00:00:22.11)<br>Memory usage on this node: 1.4/12.7 GiB<br>Using FIFO scheduling algorithm.<br>Resources requested: 2.0/2 CPUs, 0/0 GPUs, 0.0/7.31 GiB heap, 0.0/3.65 GiB objects<br>Current best trial: bee83_00000 with train-error=0.008787 and parameters={'tree_method': 'approx', 'objective': 'binary:logistic', 'eval_metric': ['logloss', 'error'], 'eta': 0.007023299237114316, 'subsample': 0.907962339015004, 'max_depth': 7, 'nthread': 1, 'n_jobs': 1}<br>Result logdir: /root/ray_results/train_model_2021-11-10_14-37-35<br>Number of trials: 4/4 (1 RUNNING, 3 TERMINATED)<br><table>\n",
              "<thead>\n",
              "<tr><th>Trial name             </th><th>status    </th><th>loc           </th><th style=\"text-align: right;\">        eta</th><th style=\"text-align: right;\">  max_depth</th><th style=\"text-align: right;\">  subsample</th><th style=\"text-align: right;\">  iter</th><th style=\"text-align: right;\">  total time (s)</th><th style=\"text-align: right;\">  train-logloss</th><th style=\"text-align: right;\">  train-error</th></tr>\n",
              "</thead>\n",
              "<tbody>\n",
              "<tr><td>train_model_bee83_00003</td><td>RUNNING   </td><td>172.28.0.2:705</td><td style=\"text-align: right;\">0.01038    </td><td style=\"text-align: right;\">          8</td><td style=\"text-align: right;\">   0.888123</td><td style=\"text-align: right;\">      </td><td style=\"text-align: right;\">                </td><td style=\"text-align: right;\">               </td><td style=\"text-align: right;\">             </td></tr>\n",
              "<tr><td>train_model_bee83_00000</td><td>TERMINATED</td><td>172.28.0.2:391</td><td style=\"text-align: right;\">0.0070233  </td><td style=\"text-align: right;\">          7</td><td style=\"text-align: right;\">   0.907962</td><td style=\"text-align: right;\">    10</td><td style=\"text-align: right;\">         3.65532</td><td style=\"text-align: right;\">       0.63437 </td><td style=\"text-align: right;\">     0.008787</td></tr>\n",
              "<tr><td>train_model_bee83_00001</td><td>TERMINATED</td><td>172.28.0.2:497</td><td style=\"text-align: right;\">0.00202672 </td><td style=\"text-align: right;\">          5</td><td style=\"text-align: right;\">   0.961565</td><td style=\"text-align: right;\">    10</td><td style=\"text-align: right;\">         3.66381</td><td style=\"text-align: right;\">       0.675458</td><td style=\"text-align: right;\">     0.010545</td></tr>\n",
              "<tr><td>train_model_bee83_00002</td><td>TERMINATED</td><td>172.28.0.2:601</td><td style=\"text-align: right;\">0.000248038</td><td style=\"text-align: right;\">          2</td><td style=\"text-align: right;\">   0.524566</td><td style=\"text-align: right;\">    10</td><td style=\"text-align: right;\">         3.69773</td><td style=\"text-align: right;\">       0.691156</td><td style=\"text-align: right;\">     0.043937</td></tr>\n",
              "</tbody>\n",
              "</table><br><br>"
            ],
            "text/plain": [
              "<IPython.core.display.HTML object>"
            ]
          },
          "metadata": {}
        },
        {
          "output_type": "stream",
          "name": "stdout",
          "text": [
            "Result for train_model_bee83_00003:\n",
            "  date: 2021-11-10_14-37-58\n",
            "  done: false\n",
            "  experiment_id: 15fc5eb02055450aaa4d59c1e2b4289a\n",
            "  hostname: c5c57dd5df1b\n",
            "  iterations_since_restore: 1\n",
            "  node_ip: 172.28.0.2\n",
            "  pid: 705\n",
            "  time_since_restore: 3.595700740814209\n",
            "  time_this_iter_s: 3.595700740814209\n",
            "  time_total_s: 3.595700740814209\n",
            "  timestamp: 1636555078\n",
            "  timesteps_since_restore: 0\n",
            "  train-error: 0.026362\n",
            "  train-logloss: 0.683962\n",
            "  training_iteration: 1\n",
            "  trial_id: bee83_00003\n",
            "  \n",
            "Result for train_model_bee83_00003:\n",
            "  date: 2021-11-10_14-37-58\n",
            "  done: true\n",
            "  experiment_id: 15fc5eb02055450aaa4d59c1e2b4289a\n",
            "  experiment_tag: 3_eta=0.01038,max_depth=8,subsample=0.88812\n",
            "  hostname: c5c57dd5df1b\n",
            "  iterations_since_restore: 10\n",
            "  node_ip: 172.28.0.2\n",
            "  pid: 705\n",
            "  time_since_restore: 3.654897928237915\n",
            "  time_this_iter_s: 0.005064725875854492\n",
            "  time_total_s: 3.654897928237915\n",
            "  timestamp: 1636555078\n",
            "  timesteps_since_restore: 0\n",
            "  train-error: 0.008787\n",
            "  train-logloss: 0.609248\n",
            "  training_iteration: 10\n",
            "  trial_id: bee83_00003\n",
            "  \n"
          ]
        },
        {
          "output_type": "display_data",
          "data": {
            "text/html": [
              "== Status ==<br>Current time: 2021-11-10 14:37:58 (running for 00:00:22.60)<br>Memory usage on this node: 1.1/12.7 GiB<br>Using FIFO scheduling algorithm.<br>Resources requested: 0/2 CPUs, 0/0 GPUs, 0.0/7.31 GiB heap, 0.0/3.65 GiB objects<br>Current best trial: bee83_00000 with train-error=0.008787 and parameters={'tree_method': 'approx', 'objective': 'binary:logistic', 'eval_metric': ['logloss', 'error'], 'eta': 0.007023299237114316, 'subsample': 0.907962339015004, 'max_depth': 7, 'nthread': 1, 'n_jobs': 1}<br>Result logdir: /root/ray_results/train_model_2021-11-10_14-37-35<br>Number of trials: 4/4 (4 TERMINATED)<br><table>\n",
              "<thead>\n",
              "<tr><th>Trial name             </th><th>status    </th><th>loc           </th><th style=\"text-align: right;\">        eta</th><th style=\"text-align: right;\">  max_depth</th><th style=\"text-align: right;\">  subsample</th><th style=\"text-align: right;\">  iter</th><th style=\"text-align: right;\">  total time (s)</th><th style=\"text-align: right;\">  train-logloss</th><th style=\"text-align: right;\">  train-error</th></tr>\n",
              "</thead>\n",
              "<tbody>\n",
              "<tr><td>train_model_bee83_00000</td><td>TERMINATED</td><td>172.28.0.2:391</td><td style=\"text-align: right;\">0.0070233  </td><td style=\"text-align: right;\">          7</td><td style=\"text-align: right;\">   0.907962</td><td style=\"text-align: right;\">    10</td><td style=\"text-align: right;\">         3.65532</td><td style=\"text-align: right;\">       0.63437 </td><td style=\"text-align: right;\">     0.008787</td></tr>\n",
              "<tr><td>train_model_bee83_00001</td><td>TERMINATED</td><td>172.28.0.2:497</td><td style=\"text-align: right;\">0.00202672 </td><td style=\"text-align: right;\">          5</td><td style=\"text-align: right;\">   0.961565</td><td style=\"text-align: right;\">    10</td><td style=\"text-align: right;\">         3.66381</td><td style=\"text-align: right;\">       0.675458</td><td style=\"text-align: right;\">     0.010545</td></tr>\n",
              "<tr><td>train_model_bee83_00002</td><td>TERMINATED</td><td>172.28.0.2:601</td><td style=\"text-align: right;\">0.000248038</td><td style=\"text-align: right;\">          2</td><td style=\"text-align: right;\">   0.524566</td><td style=\"text-align: right;\">    10</td><td style=\"text-align: right;\">         3.69773</td><td style=\"text-align: right;\">       0.691156</td><td style=\"text-align: right;\">     0.043937</td></tr>\n",
              "<tr><td>train_model_bee83_00003</td><td>TERMINATED</td><td>172.28.0.2:705</td><td style=\"text-align: right;\">0.01038    </td><td style=\"text-align: right;\">          8</td><td style=\"text-align: right;\">   0.888123</td><td style=\"text-align: right;\">    10</td><td style=\"text-align: right;\">         3.6549 </td><td style=\"text-align: right;\">       0.609248</td><td style=\"text-align: right;\">     0.008787</td></tr>\n",
              "</tbody>\n",
              "</table><br><br>"
            ],
            "text/plain": [
              "<IPython.core.display.HTML object>"
            ]
          },
          "metadata": {}
        },
        {
          "output_type": "stream",
          "name": "stderr",
          "text": [
            "\u001b[2m\u001b[36m(pid=705)\u001b[0m 2021-11-10 14:37:58,108\tINFO main.py:1498 -- [RayXGBoost] Finished XGBoost training on training data with total N=569 in 3.67 seconds (1.10 pure XGBoost training time).\n",
            "2021-11-10 14:37:58,285\tINFO tune.py:630 -- Total run time: 22.78 seconds (22.59 seconds for the tuning loop).\n"
          ]
        },
        {
          "output_type": "stream",
          "name": "stdout",
          "text": [
            "Best hyperparameters {'tree_method': 'approx', 'objective': 'binary:logistic', 'eval_metric': ['logloss', 'error'], 'eta': 0.007023299237114316, 'subsample': 0.907962339015004, 'max_depth': 7}\n"
          ]
        }
      ]
    }
  ]
}